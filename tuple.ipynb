{
 "cells": [
  {
   "cell_type": "code",
   "execution_count": 1,
   "id": "319a6b09",
   "metadata": {},
   "outputs": [
    {
     "name": "stdout",
     "output_type": "stream",
     "text": [
      "('a', 'b', 'c', 'd', 'e')\n"
     ]
    }
   ],
   "source": [
    "#   Created by Elshad Karimov on 23/04/2020.\n",
    "#   Copyright © 2020 AppMillers. All rights .\n",
    "\n",
    "newTuple = ('a', 'b', 'c', 'd', 'e')\n",
    "newTuple1 = tuple('abcde')\n",
    "print(newTuple)"
   ]
  },
  {
   "cell_type": "code",
   "execution_count": 2,
   "id": "2b85a9f1",
   "metadata": {},
   "outputs": [
    {
     "name": "stdout",
     "output_type": "stream",
     "text": [
      "('a', 'b', 'c', 'd', 'e')\n"
     ]
    }
   ],
   "source": [
    "print(newTuple1)"
   ]
  },
  {
   "cell_type": "code",
   "execution_count": 3,
   "id": "3de29e96",
   "metadata": {},
   "outputs": [
    {
     "name": "stdout",
     "output_type": "stream",
     "text": [
      "('a', 'c', 'e')\n"
     ]
    }
   ],
   "source": [
    "# Access Tuple elements\n",
    "\n",
    "print(newTuple[-5::2]) "
   ]
  },
  {
   "cell_type": "code",
   "execution_count": 4,
   "id": "bd5159e7",
   "metadata": {},
   "outputs": [
    {
     "name": "stdout",
     "output_type": "stream",
     "text": [
      "a\n",
      "b\n",
      "c\n",
      "d\n",
      "e\n"
     ]
    }
   ],
   "source": [
    "#  Traverse through tuple\n",
    "\n",
    "for i in newTuple:\n",
    "        print(i)"
   ]
  },
  {
   "cell_type": "code",
   "execution_count": 5,
   "id": "180b28e4",
   "metadata": {},
   "outputs": [
    {
     "name": "stdout",
     "output_type": "stream",
     "text": [
      "a\n",
      "b\n",
      "c\n",
      "d\n",
      "e\n"
     ]
    }
   ],
   "source": [
    "for index in range(len(newTuple)):\n",
    "        print(newTuple[index])"
   ]
  },
  {
   "cell_type": "code",
   "execution_count": 6,
   "id": "4125087e",
   "metadata": {},
   "outputs": [
    {
     "name": "stdout",
     "output_type": "stream",
     "text": [
      "True\n"
     ]
    }
   ],
   "source": [
    "#  How to search for an element in Tuple?\n",
    "\n",
    "print('a' in newTuple)"
   ]
  },
  {
   "cell_type": "code",
   "execution_count": 10,
   "id": "637fca81",
   "metadata": {},
   "outputs": [],
   "source": [
    "def searchInTuple(pTuple, element):\n",
    "        for i in pTuple:\n",
    "            if i == element:\n",
    "                return pTuple.index(i)\n",
    "        return 'The element does not exist'\n",
    "\n",
    "    \n",
    "        print(searchInTuple(newTuple, 'a'))"
   ]
  },
  {
   "cell_type": "code",
   "execution_count": 11,
   "id": "41341dd7",
   "metadata": {},
   "outputs": [
    {
     "name": "stdout",
     "output_type": "stream",
     "text": [
      "(1, 4, 3, 2, 5, 1, 2, 6, 9, 8, 7)\n"
     ]
    }
   ],
   "source": [
    "# Tuple Operations / Functions\n",
    "\n",
    "myTuple = (1,4,3,2,5)\n",
    "myTuple1 = (1,2,6,9,8,7)\n",
    "print(myTuple + myTuple1)"
   ]
  },
  {
   "cell_type": "code",
   "execution_count": 12,
   "id": "a3006d9a",
   "metadata": {},
   "outputs": [
    {
     "name": "stdout",
     "output_type": "stream",
     "text": [
      "(1, 4, 3, 2, 5, 1, 4, 3, 2, 5, 1, 4, 3, 2, 5, 1, 4, 3, 2, 5)\n"
     ]
    }
   ],
   "source": [
    "print(myTuple * 4)"
   ]
  },
  {
   "cell_type": "code",
   "execution_count": 13,
   "id": "7077f538",
   "metadata": {},
   "outputs": [
    {
     "name": "stdout",
     "output_type": "stream",
     "text": [
      "True\n"
     ]
    }
   ],
   "source": [
    "print(2 in myTuple1)"
   ]
  },
  {
   "cell_type": "code",
   "execution_count": 14,
   "id": "66c3d65f",
   "metadata": {},
   "outputs": [
    {
     "data": {
      "text/plain": [
       "1"
      ]
     },
     "execution_count": 14,
     "metadata": {},
     "output_type": "execute_result"
    }
   ],
   "source": [
    "myTuple1.count(2)"
   ]
  },
  {
   "cell_type": "code",
   "execution_count": 15,
   "id": "f0d534c9",
   "metadata": {},
   "outputs": [
    {
     "data": {
      "text/plain": [
       "1"
      ]
     },
     "execution_count": 15,
     "metadata": {},
     "output_type": "execute_result"
    }
   ],
   "source": [
    "myTuple1.index(2)"
   ]
  },
  {
   "cell_type": "code",
   "execution_count": 16,
   "id": "de3a75da",
   "metadata": {},
   "outputs": [
    {
     "name": "stdout",
     "output_type": "stream",
     "text": [
      "10 25 40\n"
     ]
    }
   ],
   "source": [
    "x, y, z = (10,15,20,25,30,35,40)[0::3]\n",
    "print(x,y,z)"
   ]
  },
  {
   "cell_type": "code",
   "execution_count": 17,
   "id": "498ed63d",
   "metadata": {},
   "outputs": [
    {
     "name": "stdout",
     "output_type": "stream",
     "text": [
      "10 25\n"
     ]
    }
   ],
   "source": [
    "x, y = (y, x)[::-1]\n",
    "print(x, y)"
   ]
  },
  {
   "cell_type": "code",
   "execution_count": null,
   "id": "fd62aa0d",
   "metadata": {},
   "outputs": [],
   "source": []
  }
 ],
 "metadata": {
  "kernelspec": {
   "display_name": "Python 3 (ipykernel)",
   "language": "python",
   "name": "python3"
  },
  "language_info": {
   "codemirror_mode": {
    "name": "ipython",
    "version": 3
   },
   "file_extension": ".py",
   "mimetype": "text/x-python",
   "name": "python",
   "nbconvert_exporter": "python",
   "pygments_lexer": "ipython3",
   "version": "3.9.12"
  }
 },
 "nbformat": 4,
 "nbformat_minor": 5
}
