{
 "cells": [
  {
   "cell_type": "code",
   "execution_count": 1,
   "id": "835bcea1",
   "metadata": {},
   "outputs": [
    {
     "name": "stdout",
     "output_type": "stream",
     "text": [
      "0\n"
     ]
    }
   ],
   "source": [
    "#   Created by Elshad Karimov on 23/04/2020.\n",
    "#   Copyright © 2020 AppMillers. All rights reserved.\n",
    "\n",
    "# Tuple Interview Questions\n",
    "\n",
    "\n",
    "\n",
    "# Q-1. What will be the output of the following code block?\n",
    "\n",
    "init_tuple = ()\n",
    "print (init_tuple.__len__())"
   ]
  },
  {
   "cell_type": "code",
   "execution_count": 2,
   "id": "a23ab9ae",
   "metadata": {},
   "outputs": [
    {
     "name": "stdout",
     "output_type": "stream",
     "text": [
      "True\n"
     ]
    }
   ],
   "source": [
    "# Q-2. What will be the output of the following code block?\n",
    "\n",
    "init_tuple_a = 'a', 'b'\n",
    "init_tuple_b = ('a', 'b')\n",
    "\n",
    "print (init_tuple_a == init_tuple_b)"
   ]
  },
  {
   "cell_type": "code",
   "execution_count": 3,
   "id": "927a517d",
   "metadata": {},
   "outputs": [
    {
     "name": "stdout",
     "output_type": "stream",
     "text": [
      "('1', '2', '3', '4')\n"
     ]
    }
   ],
   "source": [
    "# Q-3. What will be the output of the following code block?\n",
    "\n",
    "init_tuple_a = '1', '2'\n",
    "init_tuple_b = ('3', '4')\n",
    "\n",
    "print (init_tuple_a + init_tuple_b)"
   ]
  },
  {
   "cell_type": "code",
   "execution_count": 4,
   "id": "0f80af46",
   "metadata": {},
   "outputs": [
    {
     "name": "stdout",
     "output_type": "stream",
     "text": [
      "10\n"
     ]
    },
    {
     "data": {
      "text/plain": [
       "[None]"
      ]
     },
     "execution_count": 4,
     "metadata": {},
     "output_type": "execute_result"
    }
   ],
   "source": [
    "# Q-4. What will be the output of the following code block?\n",
    "\n",
    "init_tuple_a = 1, 2\n",
    "init_tuple_b = (3, 4)\n",
    "\n",
    "[print(sum(x)) for x in [init_tuple_a + init_tuple_b]]"
   ]
  },
  {
   "cell_type": "code",
   "execution_count": 5,
   "id": "4a5659e6",
   "metadata": {},
   "outputs": [
    {
     "name": "stdout",
     "output_type": "stream",
     "text": [
      "6\n"
     ]
    }
   ],
   "source": [
    "# Q-5. What will be the output of the following code block?\n",
    "\n",
    "init_tuple = [(0, 1), (1, 2), (2, 3)]\n",
    "result = sum(n for _, n in init_tuple)\n",
    "\n",
    "print(result)"
   ]
  },
  {
   "cell_type": "code",
   "execution_count": 6,
   "id": "4bff2aa9",
   "metadata": {},
   "outputs": [],
   "source": [
    "# Q-6. Which of the following statements given below is/are true?\n",
    "\n",
    "# A. Tuples have structure, lists have an order.\n",
    "# B. Tuples are homogeneous, lists are heterogeneous.\n",
    "# C. Tuples are immutable, lists are mutable.\n",
    "# D. All of them."
   ]
  },
  {
   "cell_type": "code",
   "execution_count": 7,
   "id": "58ac5686",
   "metadata": {},
   "outputs": [
    {
     "name": "stdout",
     "output_type": "stream",
     "text": [
      "()\n"
     ]
    }
   ],
   "source": [
    "# Q-7. What will be the output of the following code block?\n",
    "\n",
    "l = [1, 2, 3]\n",
    "init_tuple = ('Python',) * (l.__len__() - l[::-1][0])\n",
    "\n",
    "print(init_tuple)"
   ]
  },
  {
   "cell_type": "code",
   "execution_count": 8,
   "id": "232eeb10",
   "metadata": {},
   "outputs": [
    {
     "name": "stdout",
     "output_type": "stream",
     "text": [
      "<class 'str'>\n"
     ]
    }
   ],
   "source": [
    "# Q-8. What will be the output of the following code block?\n",
    "\n",
    "init_tuple = ('Python') * 3\n",
    "\n",
    "print(type(init_tuple))"
   ]
  },
  {
   "cell_type": "code",
   "execution_count": 9,
   "id": "ff1d271f",
   "metadata": {},
   "outputs": [
    {
     "ename": "TypeError",
     "evalue": "'tuple' object does not support item assignment",
     "output_type": "error",
     "traceback": [
      "\u001b[1;31m---------------------------------------------------------------------------\u001b[0m",
      "\u001b[1;31mTypeError\u001b[0m                                 Traceback (most recent call last)",
      "Input \u001b[1;32mIn [9]\u001b[0m, in \u001b[0;36m<cell line: 4>\u001b[1;34m()\u001b[0m\n\u001b[0;32m      1\u001b[0m \u001b[38;5;66;03m# Q-9. What will be the output of the following code block?\u001b[39;00m\n\u001b[0;32m      3\u001b[0m init_tuple \u001b[38;5;241m=\u001b[39m (\u001b[38;5;241m1\u001b[39m,) \u001b[38;5;241m*\u001b[39m \u001b[38;5;241m3\u001b[39m\n\u001b[1;32m----> 4\u001b[0m init_tuple[\u001b[38;5;241m0\u001b[39m] \u001b[38;5;241m=\u001b[39m \u001b[38;5;241m2\u001b[39m\n\u001b[0;32m      5\u001b[0m \u001b[38;5;28mprint\u001b[39m(init_tuple)\n",
      "\u001b[1;31mTypeError\u001b[0m: 'tuple' object does not support item assignment"
     ]
    }
   ],
   "source": [
    "# Q-9. What will be the output of the following code block?\n",
    "\n",
    "init_tuple = (1,) * 3\n",
    "init_tuple[0] = 2\n",
    "print(init_tuple)"
   ]
  },
  {
   "cell_type": "code",
   "execution_count": 10,
   "id": "1a21cf1c",
   "metadata": {},
   "outputs": [
    {
     "name": "stdout",
     "output_type": "stream",
     "text": [
      "4\n"
     ]
    }
   ],
   "source": [
    "# Q-10. What will be the output of the following code block?\n",
    "\n",
    "init_tuple = ((1, 2),) * 7\n",
    "print(len(init_tuple[3:8]))"
   ]
  },
  {
   "cell_type": "code",
   "execution_count": null,
   "id": "bf1ad194",
   "metadata": {},
   "outputs": [],
   "source": []
  }
 ],
 "metadata": {
  "kernelspec": {
   "display_name": "Python 3 (ipykernel)",
   "language": "python",
   "name": "python3"
  },
  "language_info": {
   "codemirror_mode": {
    "name": "ipython",
    "version": 3
   },
   "file_extension": ".py",
   "mimetype": "text/x-python",
   "name": "python",
   "nbconvert_exporter": "python",
   "pygments_lexer": "ipython3",
   "version": "3.9.12"
  }
 },
 "nbformat": 4,
 "nbformat_minor": 5
}
